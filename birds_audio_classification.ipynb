{
  "nbformat": 4,
  "nbformat_minor": 0,
  "metadata": {
    "colab": {
      "name": "birds_audio_classification.ipynb",
      "provenance": [],
      "collapsed_sections": [],
      "include_colab_link": true
    },
    "kernelspec": {
      "name": "python3",
      "display_name": "Python 3"
    },
    "accelerator": "GPU"
  },
  "cells": [
    {
      "cell_type": "markdown",
      "metadata": {
        "id": "view-in-github",
        "colab_type": "text"
      },
      "source": [
        "<a href=\"https://colab.research.google.com/github/HsengivS/Deep-Learning/blob/master/birds_audio_classification.ipynb\" target=\"_parent\"><img src=\"https://colab.research.google.com/assets/colab-badge.svg\" alt=\"Open In Colab\"/></a>"
      ]
    },
    {
      "cell_type": "code",
      "metadata": {
        "id": "cmZB03g8TpAy",
        "outputId": "bcfafbf2-a83c-4f11-c93d-937b78e075cd",
        "colab": {
          "base_uri": "https://localhost:8080/"
        }
      },
      "source": [
        "import glob\n",
        "\n",
        "# Importing drive method from colab for accessing google drive\n",
        "from google.colab import drive\n",
        "drive.mount('/content/drive')"
      ],
      "execution_count": 1,
      "outputs": [
        {
          "output_type": "stream",
          "text": [
            "Mounted at /content/drive\n"
          ],
          "name": "stdout"
        }
      ]
    },
    {
      "cell_type": "code",
      "metadata": {
        "id": "gbQFris9Tz0D",
        "outputId": "65d85633-5910-4b5a-b9be-c9e1b03d9616",
        "colab": {
          "base_uri": "https://localhost:8080/"
        }
      },
      "source": [
        "from google.colab import drive\n",
        "drive.mount('/content/drive')"
      ],
      "execution_count": 2,
      "outputs": [
        {
          "output_type": "stream",
          "text": [
            "Drive already mounted at /content/drive; to attempt to forcibly remount, call drive.mount(\"/content/drive\", force_remount=True).\n"
          ],
          "name": "stdout"
        }
      ]
    },
    {
      "cell_type": "code",
      "metadata": {
        "id": "7pMGaHCcUQsV",
        "outputId": "0c0d8f59-dbc8-4661-ab51-1937e2901343",
        "colab": {
          "base_uri": "https://localhost:8080/"
        }
      },
      "source": [
        "!ls \"/content/drive/My Drive/BIRDS_AUDIO_CLASSIFIER\""
      ],
      "execution_count": 3,
      "outputs": [
        {
          "output_type": "stream",
          "text": [
            "AmericanCrow  BlueJay  EasternWoodPewee  NorthernWaterthrush  Ovenbird\tVeery\n"
          ],
          "name": "stdout"
        }
      ]
    },
    {
      "cell_type": "code",
      "metadata": {
        "id": "PsKIdLw5TPPL"
      },
      "source": [
        "# Pandas\n",
        "import pandas as pd\n",
        "\n",
        "# Scikit learn\n",
        "from sklearn.model_selection import train_test_split\n",
        "from sklearn.metrics import classification_report, accuracy_score, confusion_matrix\n",
        "from sklearn.preprocessing import LabelEncoder\n",
        "from sklearn.utils import shuffle\n",
        "from sklearn.utils import class_weight\n",
        "\n",
        "# Keras\n",
        "from keras.models import Sequential\n",
        "from keras.layers import Dense, Dropout, Activation, Flatten\n",
        "from keras.layers import Convolution2D, Conv2D, MaxPooling2D, GlobalAveragePooling2D\n",
        "from keras.utils import to_categorical\n",
        "\n",
        "# Audio\n",
        "import librosa\n",
        "import librosa.display\n",
        "\n",
        "# Plot\n",
        "import matplotlib.pyplot as plt\n",
        "\n",
        "# Utility\n",
        "import os\n",
        "import glob\n",
        "import numpy as np\n",
        "from tqdm import tqdm\n",
        "import itertools"
      ],
      "execution_count": 4,
      "outputs": []
    },
    {
      "cell_type": "code",
      "metadata": {
        "id": "TtEKhdlTUf_9",
        "outputId": "13055909-b1ac-4b14-dfc8-35b8cff383b4",
        "colab": {
          "base_uri": "https://localhost:8080/"
        }
      },
      "source": [
        "data_folders = [\"/content/drive/My Drive/BIRDS_AUDIO_CLASSIFIER/\"+i for i in os.listdir(\"/content/drive/My Drive/BIRDS_AUDIO_CLASSIFIER\")]\n",
        "data_folders"
      ],
      "execution_count": 5,
      "outputs": [
        {
          "output_type": "execute_result",
          "data": {
            "text/plain": [
              "['/content/drive/My Drive/BIRDS_AUDIO_CLASSIFIER/AmericanCrow',\n",
              " '/content/drive/My Drive/BIRDS_AUDIO_CLASSIFIER/NorthernWaterthrush',\n",
              " '/content/drive/My Drive/BIRDS_AUDIO_CLASSIFIER/Ovenbird',\n",
              " '/content/drive/My Drive/BIRDS_AUDIO_CLASSIFIER/Veery',\n",
              " '/content/drive/My Drive/BIRDS_AUDIO_CLASSIFIER/BlueJay',\n",
              " '/content/drive/My Drive/BIRDS_AUDIO_CLASSIFIER/EasternWoodPewee']"
            ]
          },
          "metadata": {
            "tags": []
          },
          "execution_count": 5
        }
      ]
    },
    {
      "cell_type": "code",
      "metadata": {
        "id": "JfPwwccQTUJT",
        "outputId": "cd566bc3-f6b4-4aea-b079-460983ddafad",
        "colab": {
          "base_uri": "https://localhost:8080/"
        }
      },
      "source": [
        "%%time\n",
        "dataset = []\n",
        "for folder in data_folders:\n",
        "  label = folder.split(\"/\")[-1]\n",
        "  for filename in os.listdir(folder):\n",
        "    fn = os.path.join(folder, filename)\n",
        "    if librosa.get_duration(filename=fn)>=4:\n",
        "      dataset.append({\"filename\":fn, \"label\":label})"
      ],
      "execution_count": 6,
      "outputs": [
        {
          "output_type": "stream",
          "text": [
            "CPU times: user 10.7 s, sys: 28.4 s, total: 39.1 s\n",
            "Wall time: 14min 35s\n"
          ],
          "name": "stdout"
        }
      ]
    },
    {
      "cell_type": "code",
      "metadata": {
        "id": "PT4WZe0dvbVQ"
      },
      "source": [
        "dataset = pd.DataFrame(dataset)\n",
        "dataset = shuffle(dataset, random_state=42)"
      ],
      "execution_count": 7,
      "outputs": []
    },
    {
      "cell_type": "code",
      "metadata": {
        "id": "_EGBommJzW7B",
        "outputId": "4603da02-20ff-4fd1-fe61-cea44ca04d47",
        "colab": {
          "base_uri": "https://localhost:8080/"
        }
      },
      "source": [
        "dataset.info()"
      ],
      "execution_count": 8,
      "outputs": [
        {
          "output_type": "stream",
          "text": [
            "<class 'pandas.core.frame.DataFrame'>\n",
            "Int64Index: 1581 entries, 1124 to 1126\n",
            "Data columns (total 2 columns):\n",
            " #   Column    Non-Null Count  Dtype \n",
            "---  ------    --------------  ----- \n",
            " 0   filename  1581 non-null   object\n",
            " 1   label     1581 non-null   object\n",
            "dtypes: object(2)\n",
            "memory usage: 37.1+ KB\n"
          ],
          "name": "stdout"
        }
      ]
    },
    {
      "cell_type": "code",
      "metadata": {
        "id": "rLQe2qqMzZo5",
        "outputId": "792e3063-eaf4-4804-c918-a2a30f0b05b9",
        "colab": {
          "base_uri": "https://localhost:8080/"
        }
      },
      "source": [
        "dataset.label.value_counts()"
      ],
      "execution_count": 9,
      "outputs": [
        {
          "output_type": "execute_result",
          "data": {
            "text/plain": [
              "BlueJay                370\n",
              "AmericanCrow           280\n",
              "NorthernWaterthrush    275\n",
              "Ovenbird               229\n",
              "Veery                  216\n",
              "EasternWoodPewee       211\n",
              "Name: label, dtype: int64"
            ]
          },
          "metadata": {
            "tags": []
          },
          "execution_count": 9
        }
      ]
    },
    {
      "cell_type": "code",
      "metadata": {
        "id": "ZsMHheqHzg0m",
        "outputId": "a0e4bc46-eb08-4527-be68-ff053875b6dc",
        "colab": {
          "base_uri": "https://localhost:8080/",
          "height": 486
        }
      },
      "source": [
        "plt.figure(figsize=(12,6))\n",
        "dataset.label.value_counts().plot(kind='bar', title=\"Dataset distribution\")\n",
        "plt.show()"
      ],
      "execution_count": 10,
      "outputs": [
        {
          "output_type": "display_data",
          "data": {
            "image/png": "[encoded data removed]",
            "text/plain": [
              "<Figure size 864x432 with 1 Axes>"
            ]
          },
          "metadata": {
            "tags": [],
            "needs_background": "light"
          }
        }
      ]
    },
    {
      "cell_type": "code",
      "metadata": {
        "id": "sRoHQQxYzl9C",
        "outputId": "6ac9fa98-fd69-4487-c357-6e1b3c015684",
        "colab": {
          "base_uri": "https://localhost:8080/"
        }
      },
      "source": [
        "train, test = train_test_split(dataset, test_size=0.2, random_state=42)\n",
        "\n",
        "print(\"Train: %i\" % len(train))\n",
        "print(\"Test: %i\" % len(test))"
      ],
      "execution_count": 11,
      "outputs": [
        {
          "output_type": "stream",
          "text": [
            "Train: 1264\n",
            "Test: 317\n"
          ],
          "name": "stdout"
        }
      ]
    },
    {
      "cell_type": "markdown",
      "metadata": {
        "id": "rpz2NEu80Cdy"
      },
      "source": [
        "Extract Audio Features"
      ]
    },
    {
      "cell_type": "code",
      "metadata": {
        "id": "t8gYqwOXzzc6"
      },
      "source": [
        "def extract_features(audio_path):\n",
        "    y, sr = librosa.load(audio_path, duration=4)\n",
        "    mfccs = librosa.feature.mfcc(y=y, sr=sr, n_mfcc=40)\n",
        "    return mfccs"
      ],
      "execution_count": 12,
      "outputs": []
    },
    {
      "cell_type": "code",
      "metadata": {
        "id": "hysktw1V0GPW",
        "outputId": "6f9a2867-163d-43a7-ebd3-6c43cba1da2a",
        "colab": {
          "base_uri": "https://localhost:8080/"
        }
      },
      "source": [
        "extract_features(dataset.iloc[0,0]).shape"
      ],
      "execution_count": 13,
      "outputs": [
        {
          "output_type": "execute_result",
          "data": {
            "text/plain": [
              "(40, 173)"
            ]
          },
          "metadata": {
            "tags": []
          },
          "execution_count": 13
        }
      ]
    },
    {
      "cell_type": "code",
      "metadata": {
        "id": "eK6xvAWE0JV9",
        "outputId": "911d34f2-54a3-4c8e-eac2-d84076fbbe5c",
        "colab": {
          "base_uri": "https://localhost:8080/"
        }
      },
      "source": [
        "%%time\n",
        "x_train, x_test = [], []\n",
        "print(\"Extract features from TRAIN  and TEST dataset\")\n",
        "for idx in tqdm(range(len(train))):\n",
        "    x_train.append(extract_features(train.filename.iloc[idx]))\n",
        "\n",
        "for idx in tqdm(range(len(test))):\n",
        "    x_test.append(extract_features(test.filename.iloc[idx]))\n",
        "    \n",
        "print(\"here------------\")\n",
        "\n",
        "# print(x_train[0:2])\n",
        "\n",
        "x_train = np.asarray(x_train)\n",
        "x_test = np.asarray(x_test)\n",
        "print(22222222222222222222222222222222222222)\n",
        "print(\"X train:\", x_train.shape)\n",
        "print(\"X test:\", x_test.shape)"
      ],
      "execution_count": 14,
      "outputs": [
        {
          "output_type": "stream",
          "text": [
            "\r  0%|          | 0/1264 [00:00<?, ?it/s]"
          ],
          "name": "stderr"
        },
        {
          "output_type": "stream",
          "text": [
            "Extract features from TRAIN  and TEST dataset\n"
          ],
          "name": "stdout"
        },
        {
          "output_type": "stream",
          "text": [
            "100%|██████████| 1264/1264 [07:52<00:00,  2.68it/s]\n",
            "100%|██████████| 317/317 [02:03<00:00,  2.56it/s]"
          ],
          "name": "stderr"
        },
        {
          "output_type": "stream",
          "text": [
            "here------------\n",
            "22222222222222222222222222222222222222\n",
            "X train: (1264, 40, 173)\n",
            "X test: (317, 40, 173)\n",
            "CPU times: user 5min 2s, sys: 55.3 s, total: 5min 57s\n",
            "Wall time: 9min 55s\n"
          ],
          "name": "stdout"
        },
        {
          "output_type": "stream",
          "text": [
            "\n"
          ],
          "name": "stderr"
        }
      ]
    },
    {
      "cell_type": "markdown",
      "metadata": {
        "id": "ljlxsDn84LcS"
      },
      "source": [
        "Encode Labels"
      ]
    },
    {
      "cell_type": "code",
      "metadata": {
        "id": "Je7XfnbZ0Nh-",
        "outputId": "8610e487-2404-4ccf-940b-1b8c04e72d02",
        "colab": {
          "base_uri": "https://localhost:8080/"
        }
      },
      "source": [
        "%%time\n",
        "encoder = LabelEncoder()\n",
        "encoder.fit(train.label)\n",
        "\n",
        "y_train = encoder.transform(train.label)\n",
        "y_test = encoder.transform(test.label)"
      ],
      "execution_count": 31,
      "outputs": [
        {
          "output_type": "stream",
          "text": [
            "CPU times: user 80 µs, sys: 990 µs, total: 1.07 ms\n",
            "Wall time: 1.08 ms\n"
          ],
          "name": "stdout"
        }
      ]
    },
    {
      "cell_type": "markdown",
      "metadata": {
        "id": "9j3-BNLr4RET"
      },
      "source": [
        "Compute class weights"
      ]
    },
    {
      "cell_type": "code",
      "metadata": {
        "id": "E-wJTmez4QqS"
      },
      "source": [
        "class_weights = class_weight.compute_class_weight('balanced', np.unique(y_train), y_train)\n",
        "\n",
        "# class_weights\n"
      ],
      "execution_count": 33,
      "outputs": []
    },
    {
      "cell_type": "markdown",
      "metadata": {
        "id": "SObGKnvY4XuN"
      },
      "source": [
        "Shape the input"
      ]
    },
    {
      "cell_type": "code",
      "metadata": {
        "id": "SDFAY-fU4HqC",
        "outputId": "fa3b0430-1384-4dee-f883-bf7c1b3e0adb",
        "colab": {
          "base_uri": "https://localhost:8080/"
        }
      },
      "source": [
        "x_train = x_train.reshape(x_train.shape[0], x_train.shape[1], x_train.shape[2], 1)\n",
        "x_test = x_test.reshape(x_test.shape[0], x_test.shape[1], x_test.shape[2], 1)\n",
        "y_train = to_categorical(y_train)\n",
        "y_test = to_categorical(y_test)\n",
        "\n",
        "\n",
        "\n",
        "print(\"X train:\", x_train.shape)\n",
        "print(\"Y train:\", y_train.shape)\n",
        "print()\n",
        "print(\"X test:\", x_test.shape)\n",
        "print(\"Y test:\", y_test.shape)"
      ],
      "execution_count": 34,
      "outputs": [
        {
          "output_type": "stream",
          "text": [
            "X train: (1264, 40, 173, 1)\n",
            "Y train: (1264, 6)\n",
            "\n",
            "X test: (317, 40, 173, 1)\n",
            "Y test: (317, 6)\n"
          ],
          "name": "stdout"
        }
      ]
    },
    {
      "cell_type": "markdown",
      "metadata": {
        "id": "T-H5RhiC48To"
      },
      "source": [
        "Build Model"
      ]
    },
    {
      "cell_type": "code",
      "metadata": {
        "id": "wRtkmGQm4HZq",
        "outputId": "42515e76-fa90-42b9-cacd-e212b5cb7dff",
        "colab": {
          "base_uri": "https://localhost:8080/"
        }
      },
      "source": [
        "model = Sequential()\n",
        "model.add(Conv2D(filters=16, kernel_size=2, input_shape=(x_train.shape[1],x_train.shape[2],x_train.shape[3]), activation='relu'))\n",
        "model.add(MaxPooling2D(pool_size=2))\n",
        "model.add(Dropout(0.2))\n",
        "\n",
        "model.add(Conv2D(filters=32, kernel_size=2, activation='relu'))\n",
        "model.add(MaxPooling2D(pool_size=2))\n",
        "model.add(Dropout(0.2))\n",
        "\n",
        "model.add(Conv2D(filters=64, kernel_size=2, activation='relu'))\n",
        "model.add(MaxPooling2D(pool_size=2))\n",
        "model.add(Dropout(0.2))\n",
        "\n",
        "model.add(Conv2D(filters=128, kernel_size=2, activation='relu'))\n",
        "model.add(MaxPooling2D(pool_size=2))\n",
        "model.add(Dropout(0.5))\n",
        "model.add(GlobalAveragePooling2D())\n",
        "\n",
        "model.add(Dense(len(encoder.classes_), activation='softmax'))\n",
        "model.summary()"
      ],
      "execution_count": 35,
      "outputs": [
        {
          "output_type": "stream",
          "text": [
            "Model: \"sequential_1\"\n",
            "_________________________________________________________________\n",
            "Layer (type)                 Output Shape              Param #   \n",
            "=================================================================\n",
            "conv2d_4 (Conv2D)            (None, 39, 172, 16)       80        \n",
            "_________________________________________________________________\n",
            "max_pooling2d_4 (MaxPooling2 (None, 19, 86, 16)        0         \n",
            "_________________________________________________________________\n",
            "dropout_4 (Dropout)          (None, 19, 86, 16)        0         \n",
            "_________________________________________________________________\n",
            "conv2d_5 (Conv2D)            (None, 18, 85, 32)        2080      \n",
            "_________________________________________________________________\n",
            "max_pooling2d_5 (MaxPooling2 (None, 9, 42, 32)         0         \n",
            "_________________________________________________________________\n",
            "dropout_5 (Dropout)          (None, 9, 42, 32)         0         \n",
            "_________________________________________________________________\n",
            "conv2d_6 (Conv2D)            (None, 8, 41, 64)         8256      \n",
            "_________________________________________________________________\n",
            "max_pooling2d_6 (MaxPooling2 (None, 4, 20, 64)         0         \n",
            "_________________________________________________________________\n",
            "dropout_6 (Dropout)          (None, 4, 20, 64)         0         \n",
            "_________________________________________________________________\n",
            "conv2d_7 (Conv2D)            (None, 3, 19, 128)        32896     \n",
            "_________________________________________________________________\n",
            "max_pooling2d_7 (MaxPooling2 (None, 1, 9, 128)         0         \n",
            "_________________________________________________________________\n",
            "dropout_7 (Dropout)          (None, 1, 9, 128)         0         \n",
            "_________________________________________________________________\n",
            "global_average_pooling2d_1 ( (None, 128)               0         \n",
            "_________________________________________________________________\n",
            "dense_1 (Dense)              (None, 6)                 774       \n",
            "=================================================================\n",
            "Total params: 44,086\n",
            "Trainable params: 44,086\n",
            "Non-trainable params: 0\n",
            "_________________________________________________________________\n"
          ],
          "name": "stdout"
        }
      ]
    },
    {
      "cell_type": "code",
      "metadata": {
        "id": "1VC4DBeKzzE5"
      },
      "source": [
        "# Compile\n",
        "model.compile(loss='categorical_crossentropy', metrics=['accuracy'], optimizer='adam')"
      ],
      "execution_count": 36,
      "outputs": []
    },
    {
      "cell_type": "markdown",
      "metadata": {
        "id": "FR_OSkCB5ARU"
      },
      "source": [
        "Fit"
      ]
    },
    {
      "cell_type": "code",
      "metadata": {
        "id": "syk9KkSl5A3s",
        "outputId": "e4cefdb0-49d1-4528-846d-0ba018bff76f",
        "colab": {
          "base_uri": "https://localhost:8080/"
        }
      },
      "source": [
        "%%time\n",
        "history = model.fit(x_train, y_train,\n",
        "              batch_size=128,\n",
        "              epochs=300,\n",
        "              validation_data=(x_test, y_test),\n",
        "              shuffle=True)\n",
        "\n",
        "# %%time\n",
        "# history = model.fit(x_train, y_train,\n",
        "#               batch_size=128,\n",
        "#               epochs=10,\n",
        "#               validation_data=(x_test, y_test),\n",
        "#               class_weight=class_weights,\n",
        "#               shuffle=True)"
      ],
      "execution_count": 38,
      "outputs": [
        {
          "output_type": "stream",
          "text": [
            "Epoch 1/300\n",
            "10/10 [==============================] - 0s 35ms/step - loss: 13.4494 - accuracy: 0.1899 - val_loss: 3.7335 - val_accuracy: 0.2145\n",
            "Epoch 2/300\n",
            "10/10 [==============================] - 0s 18ms/step - loss: 6.0584 - accuracy: 0.2065 - val_loss: 2.5368 - val_accuracy: 0.2334\n",
            "Epoch 3/300\n",
            "10/10 [==============================] - 0s 16ms/step - loss: 3.6772 - accuracy: 0.2152 - val_loss: 1.8035 - val_accuracy: 0.2145\n",
            "Epoch 4/300\n",
            "10/10 [==============================] - 0s 16ms/step - loss: 2.6736 - accuracy: 0.2112 - val_loss: 1.7646 - val_accuracy: 0.2429\n",
            "Epoch 5/300\n",
            "10/10 [==============================] - 0s 16ms/step - loss: 2.1789 - accuracy: 0.2587 - val_loss: 1.7073 - val_accuracy: 0.2524\n",
            "Epoch 6/300\n",
            "10/10 [==============================] - 0s 16ms/step - loss: 1.9416 - accuracy: 0.2595 - val_loss: 1.7234 - val_accuracy: 0.2177\n",
            "Epoch 7/300\n",
            "10/10 [==============================] - 0s 17ms/step - loss: 1.8460 - accuracy: 0.2737 - val_loss: 1.6988 - val_accuracy: 0.2555\n",
            "Epoch 8/300\n",
            "10/10 [==============================] - 0s 16ms/step - loss: 1.8353 - accuracy: 0.2840 - val_loss: 1.6798 - val_accuracy: 0.2618\n",
            "Epoch 9/300\n",
            "10/10 [==============================] - 0s 16ms/step - loss: 1.7278 - accuracy: 0.2935 - val_loss: 1.6507 - val_accuracy: 0.3249\n",
            "Epoch 10/300\n",
            "10/10 [==============================] - 0s 16ms/step - loss: 1.6760 - accuracy: 0.3315 - val_loss: 1.6229 - val_accuracy: 0.3849\n",
            "Epoch 11/300\n",
            "10/10 [==============================] - 0s 16ms/step - loss: 1.6409 - accuracy: 0.3481 - val_loss: 1.6002 - val_accuracy: 0.3470\n",
            "Epoch 12/300\n",
            "10/10 [==============================] - 0s 17ms/step - loss: 1.6350 - accuracy: 0.3552 - val_loss: 1.5717 - val_accuracy: 0.3849\n",
            "Epoch 13/300\n",
            "10/10 [==============================] - 0s 16ms/step - loss: 1.5733 - accuracy: 0.3758 - val_loss: 1.5718 - val_accuracy: 0.3565\n",
            "Epoch 14/300\n",
            "10/10 [==============================] - 0s 16ms/step - loss: 1.5445 - accuracy: 0.3964 - val_loss: 1.5449 - val_accuracy: 0.3785\n",
            "Epoch 15/300\n",
            "10/10 [==============================] - 0s 17ms/step - loss: 1.5393 - accuracy: 0.3821 - val_loss: 1.5317 - val_accuracy: 0.3722\n",
            "Epoch 16/300\n",
            "10/10 [==============================] - 0s 16ms/step - loss: 1.5395 - accuracy: 0.3908 - val_loss: 1.5029 - val_accuracy: 0.3975\n",
            "Epoch 17/300\n",
            "10/10 [==============================] - 0s 16ms/step - loss: 1.5239 - accuracy: 0.4082 - val_loss: 1.5092 - val_accuracy: 0.3754\n",
            "Epoch 18/300\n",
            "10/10 [==============================] - 0s 16ms/step - loss: 1.4805 - accuracy: 0.4185 - val_loss: 1.4707 - val_accuracy: 0.3817\n",
            "Epoch 19/300\n",
            "10/10 [==============================] - 0s 16ms/step - loss: 1.4666 - accuracy: 0.4161 - val_loss: 1.4665 - val_accuracy: 0.4353\n",
            "Epoch 20/300\n",
            "10/10 [==============================] - 0s 17ms/step - loss: 1.4262 - accuracy: 0.4296 - val_loss: 1.4249 - val_accuracy: 0.4416\n",
            "Epoch 21/300\n",
            "10/10 [==============================] - 0s 17ms/step - loss: 1.4472 - accuracy: 0.4256 - val_loss: 1.4148 - val_accuracy: 0.4448\n",
            "Epoch 22/300\n",
            "10/10 [==============================] - 0s 16ms/step - loss: 1.4082 - accuracy: 0.4391 - val_loss: 1.3919 - val_accuracy: 0.4479\n",
            "Epoch 23/300\n",
            "10/10 [==============================] - 0s 16ms/step - loss: 1.3733 - accuracy: 0.4581 - val_loss: 1.3801 - val_accuracy: 0.4322\n",
            "Epoch 24/300\n",
            "10/10 [==============================] - 0s 16ms/step - loss: 1.3926 - accuracy: 0.4422 - val_loss: 1.3733 - val_accuracy: 0.4669\n",
            "Epoch 25/300\n",
            "10/10 [==============================] - 0s 16ms/step - loss: 1.3736 - accuracy: 0.4533 - val_loss: 1.3497 - val_accuracy: 0.4984\n",
            "Epoch 26/300\n",
            "10/10 [==============================] - 0s 15ms/step - loss: 1.3477 - accuracy: 0.4786 - val_loss: 1.3349 - val_accuracy: 0.4732\n",
            "Epoch 27/300\n",
            "10/10 [==============================] - 0s 17ms/step - loss: 1.3299 - accuracy: 0.4810 - val_loss: 1.3017 - val_accuracy: 0.5047\n",
            "Epoch 28/300\n",
            "10/10 [==============================] - 0s 17ms/step - loss: 1.2990 - accuracy: 0.4873 - val_loss: 1.3145 - val_accuracy: 0.4763\n",
            "Epoch 29/300\n",
            "10/10 [==============================] - 0s 16ms/step - loss: 1.3067 - accuracy: 0.4992 - val_loss: 1.2951 - val_accuracy: 0.4826\n",
            "Epoch 30/300\n",
            "10/10 [==============================] - 0s 17ms/step - loss: 1.2999 - accuracy: 0.4913 - val_loss: 1.3069 - val_accuracy: 0.4700\n",
            "Epoch 31/300\n",
            "10/10 [==============================] - 0s 17ms/step - loss: 1.2754 - accuracy: 0.5127 - val_loss: 1.2737 - val_accuracy: 0.5363\n",
            "Epoch 32/300\n",
            "10/10 [==============================] - 0s 16ms/step - loss: 1.2692 - accuracy: 0.4953 - val_loss: 1.2715 - val_accuracy: 0.5110\n",
            "Epoch 33/300\n",
            "10/10 [==============================] - 0s 16ms/step - loss: 1.2375 - accuracy: 0.5150 - val_loss: 1.2981 - val_accuracy: 0.4763\n",
            "Epoch 34/300\n",
            "10/10 [==============================] - 0s 17ms/step - loss: 1.2596 - accuracy: 0.5222 - val_loss: 1.2845 - val_accuracy: 0.4953\n",
            "Epoch 35/300\n",
            "10/10 [==============================] - 0s 17ms/step - loss: 1.2301 - accuracy: 0.5277 - val_loss: 1.2369 - val_accuracy: 0.5110\n",
            "Epoch 36/300\n",
            "10/10 [==============================] - 0s 16ms/step - loss: 1.1807 - accuracy: 0.5403 - val_loss: 1.2414 - val_accuracy: 0.4984\n",
            "Epoch 37/300\n",
            "10/10 [==============================] - 0s 16ms/step - loss: 1.1929 - accuracy: 0.5467 - val_loss: 1.2292 - val_accuracy: 0.5079\n",
            "Epoch 38/300\n",
            "10/10 [==============================] - 0s 17ms/step - loss: 1.1845 - accuracy: 0.5498 - val_loss: 1.1923 - val_accuracy: 0.5615\n",
            "Epoch 39/300\n",
            "10/10 [==============================] - 0s 16ms/step - loss: 1.1958 - accuracy: 0.5396 - val_loss: 1.1899 - val_accuracy: 0.5521\n",
            "Epoch 40/300\n",
            "10/10 [==============================] - 0s 16ms/step - loss: 1.1657 - accuracy: 0.5435 - val_loss: 1.1889 - val_accuracy: 0.5615\n",
            "Epoch 41/300\n",
            "10/10 [==============================] - 0s 17ms/step - loss: 1.1568 - accuracy: 0.5570 - val_loss: 1.1911 - val_accuracy: 0.5521\n",
            "Epoch 42/300\n",
            "10/10 [==============================] - 0s 16ms/step - loss: 1.1496 - accuracy: 0.5720 - val_loss: 1.1820 - val_accuracy: 0.5584\n",
            "Epoch 43/300\n",
            "10/10 [==============================] - 0s 16ms/step - loss: 1.1147 - accuracy: 0.5791 - val_loss: 1.1775 - val_accuracy: 0.5647\n",
            "Epoch 44/300\n",
            "10/10 [==============================] - 0s 16ms/step - loss: 1.0983 - accuracy: 0.5878 - val_loss: 1.1574 - val_accuracy: 0.5615\n",
            "Epoch 45/300\n",
            "10/10 [==============================] - 0s 16ms/step - loss: 1.0976 - accuracy: 0.5870 - val_loss: 1.1612 - val_accuracy: 0.5615\n",
            "Epoch 46/300\n",
            "10/10 [==============================] - 0s 16ms/step - loss: 1.0877 - accuracy: 0.5965 - val_loss: 1.1733 - val_accuracy: 0.5647\n",
            "Epoch 47/300\n",
            "10/10 [==============================] - 0s 17ms/step - loss: 1.1000 - accuracy: 0.5704 - val_loss: 1.1850 - val_accuracy: 0.5678\n",
            "Epoch 48/300\n",
            "10/10 [==============================] - 0s 16ms/step - loss: 1.0637 - accuracy: 0.5878 - val_loss: 1.1590 - val_accuracy: 0.5678\n",
            "Epoch 49/300\n",
            "10/10 [==============================] - 0s 16ms/step - loss: 1.0560 - accuracy: 0.6044 - val_loss: 1.1827 - val_accuracy: 0.5710\n",
            "Epoch 50/300\n",
            "10/10 [==============================] - 0s 16ms/step - loss: 1.0495 - accuracy: 0.5894 - val_loss: 1.1596 - val_accuracy: 0.5899\n",
            "Epoch 51/300\n",
            "10/10 [==============================] - 0s 16ms/step - loss: 1.0312 - accuracy: 0.6028 - val_loss: 1.1245 - val_accuracy: 0.5962\n",
            "Epoch 52/300\n",
            "10/10 [==============================] - 0s 16ms/step - loss: 1.0366 - accuracy: 0.6187 - val_loss: 1.1265 - val_accuracy: 0.5868\n",
            "Epoch 53/300\n",
            "10/10 [==============================] - 0s 16ms/step - loss: 1.0445 - accuracy: 0.6195 - val_loss: 1.1021 - val_accuracy: 0.5994\n",
            "Epoch 54/300\n",
            "10/10 [==============================] - 0s 16ms/step - loss: 1.0209 - accuracy: 0.6258 - val_loss: 1.1019 - val_accuracy: 0.5804\n",
            "Epoch 55/300\n",
            "10/10 [==============================] - 0s 16ms/step - loss: 1.0043 - accuracy: 0.6147 - val_loss: 1.1071 - val_accuracy: 0.6215\n",
            "Epoch 56/300\n",
            "10/10 [==============================] - 0s 16ms/step - loss: 0.9924 - accuracy: 0.6345 - val_loss: 1.1149 - val_accuracy: 0.5994\n",
            "Epoch 57/300\n",
            "10/10 [==============================] - 0s 16ms/step - loss: 1.0004 - accuracy: 0.6408 - val_loss: 1.0734 - val_accuracy: 0.6215\n",
            "Epoch 58/300\n",
            "10/10 [==============================] - 0s 16ms/step - loss: 0.9951 - accuracy: 0.6290 - val_loss: 1.0800 - val_accuracy: 0.5962\n",
            "Epoch 59/300\n",
            "10/10 [==============================] - 0s 16ms/step - loss: 0.9710 - accuracy: 0.6337 - val_loss: 1.0819 - val_accuracy: 0.6088\n",
            "Epoch 60/300\n",
            "10/10 [==============================] - 0s 16ms/step - loss: 0.9398 - accuracy: 0.6527 - val_loss: 1.0646 - val_accuracy: 0.6057\n",
            "Epoch 61/300\n",
            "10/10 [==============================] - 0s 16ms/step - loss: 0.9788 - accuracy: 0.6234 - val_loss: 1.0459 - val_accuracy: 0.6183\n",
            "Epoch 62/300\n",
            "10/10 [==============================] - 0s 16ms/step - loss: 0.9535 - accuracy: 0.6456 - val_loss: 1.0492 - val_accuracy: 0.6088\n",
            "Epoch 63/300\n",
            "10/10 [==============================] - 0s 16ms/step - loss: 0.9196 - accuracy: 0.6566 - val_loss: 1.0709 - val_accuracy: 0.6057\n",
            "Epoch 64/300\n",
            "10/10 [==============================] - 0s 16ms/step - loss: 0.9177 - accuracy: 0.6661 - val_loss: 1.0587 - val_accuracy: 0.6341\n",
            "Epoch 65/300\n",
            "10/10 [==============================] - 0s 16ms/step - loss: 0.9204 - accuracy: 0.6693 - val_loss: 1.0555 - val_accuracy: 0.6088\n",
            "Epoch 66/300\n",
            "10/10 [==============================] - 0s 17ms/step - loss: 0.9011 - accuracy: 0.6677 - val_loss: 1.0554 - val_accuracy: 0.6151\n",
            "Epoch 67/300\n",
            "10/10 [==============================] - 0s 16ms/step - loss: 0.9186 - accuracy: 0.6653 - val_loss: 1.0320 - val_accuracy: 0.6309\n",
            "Epoch 68/300\n",
            "10/10 [==============================] - 0s 17ms/step - loss: 0.8890 - accuracy: 0.6582 - val_loss: 1.0277 - val_accuracy: 0.6372\n",
            "Epoch 69/300\n",
            "10/10 [==============================] - 0s 16ms/step - loss: 0.8921 - accuracy: 0.6669 - val_loss: 1.0430 - val_accuracy: 0.6057\n",
            "Epoch 70/300\n",
            "10/10 [==============================] - 0s 17ms/step - loss: 0.9036 - accuracy: 0.6606 - val_loss: 1.0578 - val_accuracy: 0.5994\n",
            "Epoch 71/300\n",
            "10/10 [==============================] - 0s 16ms/step - loss: 0.9009 - accuracy: 0.6622 - val_loss: 1.0719 - val_accuracy: 0.6025\n",
            "Epoch 72/300\n",
            "10/10 [==============================] - 0s 16ms/step - loss: 0.9073 - accuracy: 0.6685 - val_loss: 1.0634 - val_accuracy: 0.6151\n",
            "Epoch 73/300\n",
            "10/10 [==============================] - 0s 16ms/step - loss: 0.8643 - accuracy: 0.6907 - val_loss: 1.0849 - val_accuracy: 0.5994\n",
            "Epoch 74/300\n",
            "10/10 [==============================] - 0s 16ms/step - loss: 0.8745 - accuracy: 0.6804 - val_loss: 1.0857 - val_accuracy: 0.6183\n",
            "Epoch 75/300\n",
            "10/10 [==============================] - 0s 16ms/step - loss: 0.8408 - accuracy: 0.6883 - val_loss: 1.0574 - val_accuracy: 0.6372\n",
            "Epoch 76/300\n",
            "10/10 [==============================] - 0s 16ms/step - loss: 0.8317 - accuracy: 0.6986 - val_loss: 0.9997 - val_accuracy: 0.6467\n",
            "Epoch 77/300\n",
            "10/10 [==============================] - 0s 16ms/step - loss: 0.8321 - accuracy: 0.6930 - val_loss: 1.0375 - val_accuracy: 0.6183\n",
            "Epoch 78/300\n",
            "10/10 [==============================] - 0s 16ms/step - loss: 0.8092 - accuracy: 0.7073 - val_loss: 1.0212 - val_accuracy: 0.6309\n",
            "Epoch 79/300\n",
            "10/10 [==============================] - 0s 16ms/step - loss: 0.8186 - accuracy: 0.6978 - val_loss: 1.0195 - val_accuracy: 0.6530\n",
            "Epoch 80/300\n",
            "10/10 [==============================] - 0s 16ms/step - loss: 0.8284 - accuracy: 0.6938 - val_loss: 1.0296 - val_accuracy: 0.6372\n",
            "Epoch 81/300\n",
            "10/10 [==============================] - 0s 16ms/step - loss: 0.8317 - accuracy: 0.6907 - val_loss: 1.0319 - val_accuracy: 0.6372\n",
            "Epoch 82/300\n",
            "10/10 [==============================] - 0s 16ms/step - loss: 0.7816 - accuracy: 0.7104 - val_loss: 1.0104 - val_accuracy: 0.6404\n",
            "Epoch 83/300\n",
            "10/10 [==============================] - 0s 16ms/step - loss: 0.7735 - accuracy: 0.7120 - val_loss: 0.9869 - val_accuracy: 0.6498\n",
            "Epoch 84/300\n",
            "10/10 [==============================] - 0s 16ms/step - loss: 0.8017 - accuracy: 0.7002 - val_loss: 0.9856 - val_accuracy: 0.6404\n",
            "Epoch 85/300\n",
            "10/10 [==============================] - 0s 16ms/step - loss: 0.7766 - accuracy: 0.7271 - val_loss: 0.9758 - val_accuracy: 0.6404\n",
            "Epoch 86/300\n",
            "10/10 [==============================] - 0s 16ms/step - loss: 0.7925 - accuracy: 0.6954 - val_loss: 0.9843 - val_accuracy: 0.6530\n",
            "Epoch 87/300\n",
            "10/10 [==============================] - 0s 16ms/step - loss: 0.7750 - accuracy: 0.7089 - val_loss: 0.9857 - val_accuracy: 0.6498\n",
            "Epoch 88/300\n",
            "10/10 [==============================] - 0s 16ms/step - loss: 0.7632 - accuracy: 0.7144 - val_loss: 1.0217 - val_accuracy: 0.6467\n",
            "Epoch 89/300\n",
            "10/10 [==============================] - 0s 16ms/step - loss: 0.7776 - accuracy: 0.7073 - val_loss: 1.0020 - val_accuracy: 0.6404\n",
            "Epoch 90/300\n",
            "10/10 [==============================] - 0s 16ms/step - loss: 0.7711 - accuracy: 0.7176 - val_loss: 0.9440 - val_accuracy: 0.6688\n",
            "Epoch 91/300\n",
            "10/10 [==============================] - 0s 16ms/step - loss: 0.7540 - accuracy: 0.7263 - val_loss: 0.9773 - val_accuracy: 0.6404\n",
            "Epoch 92/300\n",
            "10/10 [==============================] - 0s 16ms/step - loss: 0.7197 - accuracy: 0.7413 - val_loss: 1.0071 - val_accuracy: 0.6404\n",
            "Epoch 93/300\n",
            "10/10 [==============================] - 0s 17ms/step - loss: 0.7089 - accuracy: 0.7397 - val_loss: 0.9704 - val_accuracy: 0.6498\n",
            "Epoch 94/300\n",
            "10/10 [==============================] - 0s 16ms/step - loss: 0.7535 - accuracy: 0.7120 - val_loss: 0.9909 - val_accuracy: 0.6404\n",
            "Epoch 95/300\n",
            "10/10 [==============================] - 0s 16ms/step - loss: 0.7452 - accuracy: 0.7168 - val_loss: 0.9820 - val_accuracy: 0.6498\n",
            "Epoch 96/300\n",
            "10/10 [==============================] - 0s 16ms/step - loss: 0.7429 - accuracy: 0.7255 - val_loss: 1.0067 - val_accuracy: 0.6341\n",
            "Epoch 97/300\n",
            "10/10 [==============================] - 0s 17ms/step - loss: 0.7185 - accuracy: 0.7484 - val_loss: 0.9578 - val_accuracy: 0.6435\n",
            "Epoch 98/300\n",
            "10/10 [==============================] - 0s 17ms/step - loss: 0.7152 - accuracy: 0.7413 - val_loss: 0.9826 - val_accuracy: 0.6688\n",
            "Epoch 99/300\n",
            "10/10 [==============================] - 0s 17ms/step - loss: 0.7113 - accuracy: 0.7445 - val_loss: 0.9617 - val_accuracy: 0.6467\n",
            "Epoch 100/300\n",
            "10/10 [==============================] - 0s 17ms/step - loss: 0.6858 - accuracy: 0.7476 - val_loss: 0.9674 - val_accuracy: 0.6625\n",
            "Epoch 101/300\n",
            "10/10 [==============================] - 0s 17ms/step - loss: 0.7045 - accuracy: 0.7263 - val_loss: 0.9781 - val_accuracy: 0.6656\n",
            "Epoch 102/300\n",
            "10/10 [==============================] - 0s 17ms/step - loss: 0.6986 - accuracy: 0.7476 - val_loss: 0.9655 - val_accuracy: 0.6688\n",
            "Epoch 103/300\n",
            "10/10 [==============================] - 0s 17ms/step - loss: 0.6804 - accuracy: 0.7619 - val_loss: 0.9872 - val_accuracy: 0.6435\n",
            "Epoch 104/300\n",
            "10/10 [==============================] - 0s 17ms/step - loss: 0.6599 - accuracy: 0.7516 - val_loss: 0.9591 - val_accuracy: 0.6562\n",
            "Epoch 105/300\n",
            "10/10 [==============================] - 0s 17ms/step - loss: 0.6658 - accuracy: 0.7524 - val_loss: 0.9607 - val_accuracy: 0.6498\n",
            "Epoch 106/300\n",
            "10/10 [==============================] - 0s 16ms/step - loss: 0.6578 - accuracy: 0.7500 - val_loss: 1.0003 - val_accuracy: 0.6625\n",
            "Epoch 107/300\n",
            "10/10 [==============================] - 0s 17ms/step - loss: 0.6571 - accuracy: 0.7627 - val_loss: 0.9917 - val_accuracy: 0.6656\n",
            "Epoch 108/300\n",
            "10/10 [==============================] - 0s 17ms/step - loss: 0.6631 - accuracy: 0.7611 - val_loss: 1.0049 - val_accuracy: 0.6625\n",
            "Epoch 109/300\n",
            "10/10 [==============================] - 0s 16ms/step - loss: 0.6591 - accuracy: 0.7650 - val_loss: 0.9320 - val_accuracy: 0.6751\n",
            "Epoch 110/300\n",
            "10/10 [==============================] - 0s 17ms/step - loss: 0.6413 - accuracy: 0.7611 - val_loss: 1.0022 - val_accuracy: 0.6719\n",
            "Epoch 111/300\n",
            "10/10 [==============================] - 0s 17ms/step - loss: 0.6440 - accuracy: 0.7587 - val_loss: 0.9923 - val_accuracy: 0.6656\n",
            "Epoch 112/300\n",
            "10/10 [==============================] - 0s 17ms/step - loss: 0.6479 - accuracy: 0.7698 - val_loss: 1.0294 - val_accuracy: 0.6372\n",
            "Epoch 113/300\n",
            "10/10 [==============================] - 0s 16ms/step - loss: 0.6504 - accuracy: 0.7627 - val_loss: 1.0522 - val_accuracy: 0.6404\n",
            "Epoch 114/300\n",
            "10/10 [==============================] - 0s 17ms/step - loss: 0.6287 - accuracy: 0.7634 - val_loss: 1.0436 - val_accuracy: 0.6562\n",
            "Epoch 115/300\n",
            "10/10 [==============================] - 0s 17ms/step - loss: 0.6339 - accuracy: 0.7698 - val_loss: 0.9667 - val_accuracy: 0.6656\n",
            "Epoch 116/300\n",
            "10/10 [==============================] - 0s 17ms/step - loss: 0.6383 - accuracy: 0.7777 - val_loss: 0.9305 - val_accuracy: 0.6719\n",
            "Epoch 117/300\n",
            "10/10 [==============================] - 0s 16ms/step - loss: 0.6026 - accuracy: 0.7816 - val_loss: 0.9625 - val_accuracy: 0.6751\n",
            "Epoch 118/300\n",
            "10/10 [==============================] - 0s 16ms/step - loss: 0.6329 - accuracy: 0.7714 - val_loss: 0.9597 - val_accuracy: 0.6845\n",
            "Epoch 119/300\n",
            "10/10 [==============================] - 0s 18ms/step - loss: 0.5995 - accuracy: 0.7840 - val_loss: 0.9750 - val_accuracy: 0.6688\n",
            "Epoch 120/300\n",
            "10/10 [==============================] - 0s 17ms/step - loss: 0.6329 - accuracy: 0.7745 - val_loss: 0.9806 - val_accuracy: 0.6688\n",
            "Epoch 121/300\n",
            "10/10 [==============================] - 0s 18ms/step - loss: 0.5910 - accuracy: 0.7888 - val_loss: 0.9770 - val_accuracy: 0.6467\n",
            "Epoch 122/300\n",
            "10/10 [==============================] - 0s 16ms/step - loss: 0.6217 - accuracy: 0.7777 - val_loss: 0.9631 - val_accuracy: 0.6656\n",
            "Epoch 123/300\n",
            "10/10 [==============================] - 0s 17ms/step - loss: 0.6096 - accuracy: 0.7777 - val_loss: 0.9722 - val_accuracy: 0.6909\n",
            "Epoch 124/300\n",
            "10/10 [==============================] - 0s 16ms/step - loss: 0.6373 - accuracy: 0.7674 - val_loss: 1.0099 - val_accuracy: 0.6656\n",
            "Epoch 125/300\n",
            "10/10 [==============================] - 0s 16ms/step - loss: 0.5944 - accuracy: 0.7785 - val_loss: 0.9588 - val_accuracy: 0.6751\n",
            "Epoch 126/300\n",
            "10/10 [==============================] - 0s 16ms/step - loss: 0.5981 - accuracy: 0.7888 - val_loss: 0.9687 - val_accuracy: 0.6845\n",
            "Epoch 127/300\n",
            "10/10 [==============================] - 0s 17ms/step - loss: 0.5853 - accuracy: 0.7769 - val_loss: 0.9673 - val_accuracy: 0.6845\n",
            "Epoch 128/300\n",
            "10/10 [==============================] - 0s 17ms/step - loss: 0.5640 - accuracy: 0.7935 - val_loss: 1.0112 - val_accuracy: 0.6341\n",
            "Epoch 129/300\n",
            "10/10 [==============================] - 0s 17ms/step - loss: 0.5847 - accuracy: 0.7864 - val_loss: 0.9882 - val_accuracy: 0.6719\n",
            "Epoch 130/300\n",
            "10/10 [==============================] - 0s 16ms/step - loss: 0.5598 - accuracy: 0.7911 - val_loss: 0.9640 - val_accuracy: 0.6940\n",
            "Epoch 131/300\n",
            "10/10 [==============================] - 0s 16ms/step - loss: 0.5488 - accuracy: 0.8038 - val_loss: 0.9550 - val_accuracy: 0.6845\n",
            "Epoch 132/300\n",
            "10/10 [==============================] - 0s 16ms/step - loss: 0.5593 - accuracy: 0.7991 - val_loss: 0.9422 - val_accuracy: 0.6909\n",
            "Epoch 133/300\n",
            "10/10 [==============================] - 0s 16ms/step - loss: 0.5707 - accuracy: 0.7872 - val_loss: 0.9301 - val_accuracy: 0.7098\n",
            "Epoch 134/300\n",
            "10/10 [==============================] - 0s 17ms/step - loss: 0.5599 - accuracy: 0.7998 - val_loss: 0.9930 - val_accuracy: 0.6877\n",
            "Epoch 135/300\n",
            "10/10 [==============================] - 0s 16ms/step - loss: 0.5410 - accuracy: 0.8038 - val_loss: 1.0266 - val_accuracy: 0.6688\n",
            "Epoch 136/300\n",
            "10/10 [==============================] - 0s 17ms/step - loss: 0.5570 - accuracy: 0.8078 - val_loss: 0.9729 - val_accuracy: 0.6877\n",
            "Epoch 137/300\n",
            "10/10 [==============================] - 0s 16ms/step - loss: 0.5203 - accuracy: 0.8157 - val_loss: 0.9769 - val_accuracy: 0.6972\n",
            "Epoch 138/300\n",
            "10/10 [==============================] - 0s 17ms/step - loss: 0.5227 - accuracy: 0.8172 - val_loss: 0.9677 - val_accuracy: 0.6877\n",
            "Epoch 139/300\n",
            "10/10 [==============================] - 0s 16ms/step - loss: 0.5652 - accuracy: 0.7903 - val_loss: 0.9607 - val_accuracy: 0.6940\n",
            "Epoch 140/300\n",
            "10/10 [==============================] - 0s 16ms/step - loss: 0.5218 - accuracy: 0.8125 - val_loss: 0.9518 - val_accuracy: 0.6877\n",
            "Epoch 141/300\n",
            "10/10 [==============================] - 0s 16ms/step - loss: 0.5200 - accuracy: 0.8157 - val_loss: 0.9098 - val_accuracy: 0.6877\n",
            "Epoch 142/300\n",
            "10/10 [==============================] - 0s 16ms/step - loss: 0.5569 - accuracy: 0.8006 - val_loss: 0.9269 - val_accuracy: 0.6877\n",
            "Epoch 143/300\n",
            "10/10 [==============================] - 0s 16ms/step - loss: 0.5736 - accuracy: 0.8014 - val_loss: 0.9722 - val_accuracy: 0.6814\n",
            "Epoch 144/300\n",
            "10/10 [==============================] - 0s 17ms/step - loss: 0.5208 - accuracy: 0.8117 - val_loss: 0.9894 - val_accuracy: 0.6814\n",
            "Epoch 145/300\n",
            "10/10 [==============================] - 0s 16ms/step - loss: 0.5318 - accuracy: 0.8038 - val_loss: 0.9350 - val_accuracy: 0.6972\n",
            "Epoch 146/300\n",
            "10/10 [==============================] - 0s 17ms/step - loss: 0.4938 - accuracy: 0.8323 - val_loss: 0.9759 - val_accuracy: 0.6782\n",
            "Epoch 147/300\n",
            "10/10 [==============================] - 0s 17ms/step - loss: 0.5311 - accuracy: 0.8085 - val_loss: 1.0096 - val_accuracy: 0.6877\n",
            "Epoch 148/300\n",
            "10/10 [==============================] - 0s 17ms/step - loss: 0.4938 - accuracy: 0.8172 - val_loss: 0.9625 - val_accuracy: 0.6877\n",
            "Epoch 149/300\n",
            "10/10 [==============================] - 0s 16ms/step - loss: 0.4896 - accuracy: 0.8259 - val_loss: 0.9548 - val_accuracy: 0.7098\n",
            "Epoch 150/300\n",
            "10/10 [==============================] - 0s 17ms/step - loss: 0.4790 - accuracy: 0.8188 - val_loss: 0.9740 - val_accuracy: 0.6972\n",
            "Epoch 151/300\n",
            "10/10 [==============================] - 0s 16ms/step - loss: 0.4851 - accuracy: 0.8299 - val_loss: 0.9764 - val_accuracy: 0.6940\n",
            "Epoch 152/300\n",
            "10/10 [==============================] - 0s 16ms/step - loss: 0.4910 - accuracy: 0.8180 - val_loss: 1.0040 - val_accuracy: 0.6688\n",
            "Epoch 153/300\n",
            "10/10 [==============================] - 0s 16ms/step - loss: 0.5039 - accuracy: 0.8220 - val_loss: 0.9699 - val_accuracy: 0.6688\n",
            "Epoch 154/300\n",
            "10/10 [==============================] - 0s 17ms/step - loss: 0.4802 - accuracy: 0.8204 - val_loss: 1.0061 - val_accuracy: 0.6877\n",
            "Epoch 155/300\n",
            "10/10 [==============================] - 0s 16ms/step - loss: 0.4802 - accuracy: 0.8244 - val_loss: 1.0152 - val_accuracy: 0.6814\n",
            "Epoch 156/300\n",
            "10/10 [==============================] - 0s 17ms/step - loss: 0.5078 - accuracy: 0.8078 - val_loss: 0.9788 - val_accuracy: 0.6877\n",
            "Epoch 157/300\n",
            "10/10 [==============================] - 0s 16ms/step - loss: 0.4878 - accuracy: 0.8220 - val_loss: 0.9627 - val_accuracy: 0.6877\n",
            "Epoch 158/300\n",
            "10/10 [==============================] - 0s 16ms/step - loss: 0.4989 - accuracy: 0.8204 - val_loss: 0.9641 - val_accuracy: 0.6751\n",
            "Epoch 159/300\n",
            "10/10 [==============================] - 0s 16ms/step - loss: 0.4808 - accuracy: 0.8331 - val_loss: 0.9805 - val_accuracy: 0.6877\n",
            "Epoch 160/300\n",
            "10/10 [==============================] - 0s 17ms/step - loss: 0.5113 - accuracy: 0.8149 - val_loss: 0.9805 - val_accuracy: 0.6940\n",
            "Epoch 161/300\n",
            "10/10 [==============================] - 0s 16ms/step - loss: 0.4738 - accuracy: 0.8362 - val_loss: 0.9641 - val_accuracy: 0.6782\n",
            "Epoch 162/300\n",
            "10/10 [==============================] - 0s 17ms/step - loss: 0.4680 - accuracy: 0.8133 - val_loss: 1.0510 - val_accuracy: 0.6972\n",
            "Epoch 163/300\n",
            "10/10 [==============================] - 0s 17ms/step - loss: 0.4910 - accuracy: 0.8259 - val_loss: 0.9680 - val_accuracy: 0.6845\n",
            "Epoch 164/300\n",
            "10/10 [==============================] - 0s 16ms/step - loss: 0.4803 - accuracy: 0.8259 - val_loss: 0.9343 - val_accuracy: 0.7003\n",
            "Epoch 165/300\n",
            "10/10 [==============================] - 0s 16ms/step - loss: 0.4596 - accuracy: 0.8354 - val_loss: 0.9150 - val_accuracy: 0.7129\n",
            "Epoch 166/300\n",
            "10/10 [==============================] - 0s 16ms/step - loss: 0.4745 - accuracy: 0.8299 - val_loss: 0.9685 - val_accuracy: 0.7035\n",
            "Epoch 167/300\n",
            "10/10 [==============================] - 0s 17ms/step - loss: 0.4763 - accuracy: 0.8228 - val_loss: 1.0070 - val_accuracy: 0.6656\n",
            "Epoch 168/300\n",
            "10/10 [==============================] - 0s 16ms/step - loss: 0.4783 - accuracy: 0.8354 - val_loss: 0.9634 - val_accuracy: 0.7035\n",
            "Epoch 169/300\n",
            "10/10 [==============================] - 0s 17ms/step - loss: 0.4876 - accuracy: 0.8014 - val_loss: 0.9559 - val_accuracy: 0.6845\n",
            "Epoch 170/300\n",
            "10/10 [==============================] - 0s 17ms/step - loss: 0.4699 - accuracy: 0.8331 - val_loss: 1.0183 - val_accuracy: 0.6972\n",
            "Epoch 171/300\n",
            "10/10 [==============================] - 0s 18ms/step - loss: 0.4527 - accuracy: 0.8362 - val_loss: 0.9818 - val_accuracy: 0.6877\n",
            "Epoch 172/300\n",
            "10/10 [==============================] - 0s 17ms/step - loss: 0.4450 - accuracy: 0.8418 - val_loss: 1.0089 - val_accuracy: 0.7035\n",
            "Epoch 173/300\n",
            "10/10 [==============================] - 0s 17ms/step - loss: 0.4660 - accuracy: 0.8275 - val_loss: 0.9897 - val_accuracy: 0.6877\n",
            "Epoch 174/300\n",
            "10/10 [==============================] - 0s 17ms/step - loss: 0.4390 - accuracy: 0.8370 - val_loss: 1.0546 - val_accuracy: 0.6909\n",
            "Epoch 175/300\n",
            "10/10 [==============================] - 0s 16ms/step - loss: 0.4626 - accuracy: 0.8244 - val_loss: 1.0007 - val_accuracy: 0.6972\n",
            "Epoch 176/300\n",
            "10/10 [==============================] - 0s 16ms/step - loss: 0.4400 - accuracy: 0.8362 - val_loss: 0.9729 - val_accuracy: 0.6814\n",
            "Epoch 177/300\n",
            "10/10 [==============================] - 0s 17ms/step - loss: 0.4522 - accuracy: 0.8370 - val_loss: 0.9320 - val_accuracy: 0.7003\n",
            "Epoch 178/300\n",
            "10/10 [==============================] - 0s 17ms/step - loss: 0.4077 - accuracy: 0.8528 - val_loss: 1.0336 - val_accuracy: 0.6719\n",
            "Epoch 179/300\n",
            "10/10 [==============================] - 0s 18ms/step - loss: 0.4413 - accuracy: 0.8386 - val_loss: 1.0538 - val_accuracy: 0.6782\n",
            "Epoch 180/300\n",
            "10/10 [==============================] - 0s 17ms/step - loss: 0.4552 - accuracy: 0.8354 - val_loss: 0.9315 - val_accuracy: 0.7192\n",
            "Epoch 181/300\n",
            "10/10 [==============================] - 0s 16ms/step - loss: 0.4676 - accuracy: 0.8291 - val_loss: 0.9684 - val_accuracy: 0.7129\n",
            "Epoch 182/300\n",
            "10/10 [==============================] - 0s 16ms/step - loss: 0.4435 - accuracy: 0.8402 - val_loss: 1.1294 - val_accuracy: 0.6845\n",
            "Epoch 183/300\n",
            "10/10 [==============================] - 0s 16ms/step - loss: 0.4406 - accuracy: 0.8457 - val_loss: 0.9797 - val_accuracy: 0.7003\n",
            "Epoch 184/300\n",
            "10/10 [==============================] - 0s 16ms/step - loss: 0.4344 - accuracy: 0.8449 - val_loss: 0.9622 - val_accuracy: 0.7161\n",
            "Epoch 185/300\n",
            "10/10 [==============================] - 0s 17ms/step - loss: 0.4286 - accuracy: 0.8489 - val_loss: 0.9839 - val_accuracy: 0.7035\n",
            "Epoch 186/300\n",
            "10/10 [==============================] - 0s 16ms/step - loss: 0.4361 - accuracy: 0.8449 - val_loss: 1.1059 - val_accuracy: 0.6751\n",
            "Epoch 187/300\n",
            "10/10 [==============================] - 0s 16ms/step - loss: 0.4325 - accuracy: 0.8457 - val_loss: 1.0081 - val_accuracy: 0.6972\n",
            "Epoch 188/300\n",
            "10/10 [==============================] - 0s 17ms/step - loss: 0.4118 - accuracy: 0.8410 - val_loss: 1.0219 - val_accuracy: 0.6972\n",
            "Epoch 189/300\n",
            "10/10 [==============================] - 0s 17ms/step - loss: 0.4173 - accuracy: 0.8489 - val_loss: 0.9717 - val_accuracy: 0.7003\n",
            "Epoch 190/300\n",
            "10/10 [==============================] - 0s 16ms/step - loss: 0.3996 - accuracy: 0.8497 - val_loss: 1.0489 - val_accuracy: 0.6940\n",
            "Epoch 191/300\n",
            "10/10 [==============================] - 0s 17ms/step - loss: 0.4131 - accuracy: 0.8528 - val_loss: 0.9909 - val_accuracy: 0.6845\n",
            "Epoch 192/300\n",
            "10/10 [==============================] - 0s 16ms/step - loss: 0.4037 - accuracy: 0.8528 - val_loss: 0.9634 - val_accuracy: 0.7098\n",
            "Epoch 193/300\n",
            "10/10 [==============================] - 0s 16ms/step - loss: 0.4012 - accuracy: 0.8663 - val_loss: 0.9656 - val_accuracy: 0.7192\n",
            "Epoch 194/300\n",
            "10/10 [==============================] - 0s 17ms/step - loss: 0.4025 - accuracy: 0.8481 - val_loss: 1.0368 - val_accuracy: 0.6909\n",
            "Epoch 195/300\n",
            "10/10 [==============================] - 0s 17ms/step - loss: 0.4176 - accuracy: 0.8631 - val_loss: 0.9866 - val_accuracy: 0.6972\n",
            "Epoch 196/300\n",
            "10/10 [==============================] - 0s 16ms/step - loss: 0.3831 - accuracy: 0.8600 - val_loss: 0.9710 - val_accuracy: 0.6877\n",
            "Epoch 197/300\n",
            "10/10 [==============================] - 0s 16ms/step - loss: 0.3905 - accuracy: 0.8600 - val_loss: 1.0325 - val_accuracy: 0.6940\n",
            "Epoch 198/300\n",
            "10/10 [==============================] - 0s 17ms/step - loss: 0.3745 - accuracy: 0.8695 - val_loss: 1.0054 - val_accuracy: 0.6940\n",
            "Epoch 199/300\n",
            "10/10 [==============================] - 0s 16ms/step - loss: 0.3720 - accuracy: 0.8608 - val_loss: 1.0102 - val_accuracy: 0.7003\n",
            "Epoch 200/300\n",
            "10/10 [==============================] - 0s 16ms/step - loss: 0.3732 - accuracy: 0.8655 - val_loss: 1.0528 - val_accuracy: 0.6940\n",
            "Epoch 201/300\n",
            "10/10 [==============================] - 0s 17ms/step - loss: 0.3957 - accuracy: 0.8521 - val_loss: 1.0526 - val_accuracy: 0.7035\n",
            "Epoch 202/300\n",
            "10/10 [==============================] - 0s 16ms/step - loss: 0.3759 - accuracy: 0.8544 - val_loss: 1.1032 - val_accuracy: 0.6845\n",
            "Epoch 203/300\n",
            "10/10 [==============================] - 0s 16ms/step - loss: 0.3702 - accuracy: 0.8742 - val_loss: 1.0967 - val_accuracy: 0.6877\n",
            "Epoch 204/300\n",
            "10/10 [==============================] - 0s 17ms/step - loss: 0.3528 - accuracy: 0.8639 - val_loss: 1.0257 - val_accuracy: 0.7129\n",
            "Epoch 205/300\n",
            "10/10 [==============================] - 0s 17ms/step - loss: 0.3669 - accuracy: 0.8639 - val_loss: 1.0562 - val_accuracy: 0.7350\n",
            "Epoch 206/300\n",
            "10/10 [==============================] - 0s 17ms/step - loss: 0.3842 - accuracy: 0.8623 - val_loss: 1.0405 - val_accuracy: 0.6972\n",
            "Epoch 207/300\n",
            "10/10 [==============================] - 0s 16ms/step - loss: 0.3921 - accuracy: 0.8481 - val_loss: 1.0511 - val_accuracy: 0.6909\n",
            "Epoch 208/300\n",
            "10/10 [==============================] - 0s 17ms/step - loss: 0.3703 - accuracy: 0.8687 - val_loss: 0.9985 - val_accuracy: 0.7350\n",
            "Epoch 209/300\n",
            "10/10 [==============================] - 0s 17ms/step - loss: 0.3719 - accuracy: 0.8687 - val_loss: 1.0470 - val_accuracy: 0.7066\n",
            "Epoch 210/300\n",
            "10/10 [==============================] - 0s 17ms/step - loss: 0.3366 - accuracy: 0.8797 - val_loss: 1.0072 - val_accuracy: 0.7256\n",
            "Epoch 211/300\n",
            "10/10 [==============================] - 0s 17ms/step - loss: 0.3745 - accuracy: 0.8639 - val_loss: 1.0690 - val_accuracy: 0.6782\n",
            "Epoch 212/300\n",
            "10/10 [==============================] - 0s 17ms/step - loss: 0.3867 - accuracy: 0.8552 - val_loss: 1.0779 - val_accuracy: 0.7161\n",
            "Epoch 213/300\n",
            "10/10 [==============================] - 0s 17ms/step - loss: 0.3744 - accuracy: 0.8639 - val_loss: 1.0138 - val_accuracy: 0.7035\n",
            "Epoch 214/300\n",
            "10/10 [==============================] - 0s 16ms/step - loss: 0.3516 - accuracy: 0.8750 - val_loss: 1.0634 - val_accuracy: 0.6877\n",
            "Epoch 215/300\n",
            "10/10 [==============================] - 0s 17ms/step - loss: 0.3561 - accuracy: 0.8774 - val_loss: 1.0922 - val_accuracy: 0.6940\n",
            "Epoch 216/300\n",
            "10/10 [==============================] - 0s 16ms/step - loss: 0.3581 - accuracy: 0.8758 - val_loss: 1.0937 - val_accuracy: 0.7098\n",
            "Epoch 217/300\n",
            "10/10 [==============================] - 0s 17ms/step - loss: 0.3597 - accuracy: 0.8655 - val_loss: 1.0155 - val_accuracy: 0.7192\n",
            "Epoch 218/300\n",
            "10/10 [==============================] - 0s 16ms/step - loss: 0.3532 - accuracy: 0.8655 - val_loss: 1.0167 - val_accuracy: 0.7035\n",
            "Epoch 219/300\n",
            "10/10 [==============================] - 0s 16ms/step - loss: 0.3638 - accuracy: 0.8782 - val_loss: 1.1085 - val_accuracy: 0.7098\n",
            "Epoch 220/300\n",
            "10/10 [==============================] - 0s 16ms/step - loss: 0.3386 - accuracy: 0.8861 - val_loss: 1.0642 - val_accuracy: 0.7066\n",
            "Epoch 221/300\n",
            "10/10 [==============================] - 0s 16ms/step - loss: 0.3448 - accuracy: 0.8710 - val_loss: 1.0555 - val_accuracy: 0.7161\n",
            "Epoch 222/300\n",
            "10/10 [==============================] - 0s 16ms/step - loss: 0.3579 - accuracy: 0.8710 - val_loss: 1.1555 - val_accuracy: 0.6972\n",
            "Epoch 223/300\n",
            "10/10 [==============================] - 0s 16ms/step - loss: 0.3320 - accuracy: 0.8845 - val_loss: 1.0587 - val_accuracy: 0.7098\n",
            "Epoch 224/300\n",
            "10/10 [==============================] - 0s 16ms/step - loss: 0.3500 - accuracy: 0.8758 - val_loss: 1.0569 - val_accuracy: 0.7035\n",
            "Epoch 225/300\n",
            "10/10 [==============================] - 0s 17ms/step - loss: 0.3542 - accuracy: 0.8797 - val_loss: 1.0184 - val_accuracy: 0.7224\n",
            "Epoch 226/300\n",
            "10/10 [==============================] - 0s 17ms/step - loss: 0.3398 - accuracy: 0.8845 - val_loss: 1.0649 - val_accuracy: 0.7098\n",
            "Epoch 227/300\n",
            "10/10 [==============================] - 0s 16ms/step - loss: 0.3267 - accuracy: 0.8908 - val_loss: 1.1507 - val_accuracy: 0.6877\n",
            "Epoch 228/300\n",
            "10/10 [==============================] - 0s 16ms/step - loss: 0.3498 - accuracy: 0.8750 - val_loss: 1.0657 - val_accuracy: 0.6972\n",
            "Epoch 229/300\n",
            "10/10 [==============================] - 0s 17ms/step - loss: 0.3342 - accuracy: 0.8790 - val_loss: 1.0393 - val_accuracy: 0.7003\n",
            "Epoch 230/300\n",
            "10/10 [==============================] - 0s 17ms/step - loss: 0.3740 - accuracy: 0.8742 - val_loss: 1.0765 - val_accuracy: 0.6909\n",
            "Epoch 231/300\n",
            "10/10 [==============================] - 0s 17ms/step - loss: 0.3584 - accuracy: 0.8805 - val_loss: 1.0986 - val_accuracy: 0.6845\n",
            "Epoch 232/300\n",
            "10/10 [==============================] - 0s 17ms/step - loss: 0.3211 - accuracy: 0.8869 - val_loss: 1.0750 - val_accuracy: 0.7098\n",
            "Epoch 233/300\n",
            "10/10 [==============================] - 0s 16ms/step - loss: 0.3071 - accuracy: 0.8924 - val_loss: 1.0458 - val_accuracy: 0.7161\n",
            "Epoch 234/300\n",
            "10/10 [==============================] - 0s 17ms/step - loss: 0.3315 - accuracy: 0.8805 - val_loss: 1.1231 - val_accuracy: 0.7003\n",
            "Epoch 235/300\n",
            "10/10 [==============================] - 0s 17ms/step - loss: 0.3370 - accuracy: 0.8726 - val_loss: 1.1221 - val_accuracy: 0.6719\n",
            "Epoch 236/300\n",
            "10/10 [==============================] - 0s 17ms/step - loss: 0.3333 - accuracy: 0.8853 - val_loss: 1.1201 - val_accuracy: 0.7003\n",
            "Epoch 237/300\n",
            "10/10 [==============================] - 0s 17ms/step - loss: 0.3540 - accuracy: 0.8703 - val_loss: 1.1349 - val_accuracy: 0.7066\n",
            "Epoch 238/300\n",
            "10/10 [==============================] - 0s 17ms/step - loss: 0.3068 - accuracy: 0.8916 - val_loss: 1.1181 - val_accuracy: 0.7035\n",
            "Epoch 239/300\n",
            "10/10 [==============================] - 0s 17ms/step - loss: 0.3059 - accuracy: 0.8853 - val_loss: 1.0697 - val_accuracy: 0.7256\n",
            "Epoch 240/300\n",
            "10/10 [==============================] - 0s 16ms/step - loss: 0.3355 - accuracy: 0.8710 - val_loss: 1.1017 - val_accuracy: 0.7224\n",
            "Epoch 241/300\n",
            "10/10 [==============================] - 0s 17ms/step - loss: 0.3025 - accuracy: 0.8948 - val_loss: 1.0895 - val_accuracy: 0.7192\n",
            "Epoch 242/300\n",
            "10/10 [==============================] - 0s 16ms/step - loss: 0.3166 - accuracy: 0.8861 - val_loss: 1.0897 - val_accuracy: 0.7098\n",
            "Epoch 243/300\n",
            "10/10 [==============================] - 0s 17ms/step - loss: 0.2989 - accuracy: 0.9003 - val_loss: 1.0943 - val_accuracy: 0.7224\n",
            "Epoch 244/300\n",
            "10/10 [==============================] - 0s 16ms/step - loss: 0.2937 - accuracy: 0.8979 - val_loss: 1.0744 - val_accuracy: 0.7161\n",
            "Epoch 245/300\n",
            "10/10 [==============================] - 0s 17ms/step - loss: 0.3197 - accuracy: 0.8837 - val_loss: 1.1289 - val_accuracy: 0.6877\n",
            "Epoch 246/300\n",
            "10/10 [==============================] - 0s 16ms/step - loss: 0.3090 - accuracy: 0.8908 - val_loss: 1.1061 - val_accuracy: 0.6877\n",
            "Epoch 247/300\n",
            "10/10 [==============================] - 0s 16ms/step - loss: 0.3106 - accuracy: 0.8853 - val_loss: 1.0950 - val_accuracy: 0.7098\n",
            "Epoch 248/300\n",
            "10/10 [==============================] - 0s 17ms/step - loss: 0.2836 - accuracy: 0.8987 - val_loss: 1.1625 - val_accuracy: 0.6972\n",
            "Epoch 249/300\n",
            "10/10 [==============================] - 0s 17ms/step - loss: 0.3204 - accuracy: 0.8948 - val_loss: 1.1670 - val_accuracy: 0.7003\n",
            "Epoch 250/300\n",
            "10/10 [==============================] - 0s 16ms/step - loss: 0.2934 - accuracy: 0.8908 - val_loss: 1.1018 - val_accuracy: 0.6972\n",
            "Epoch 251/300\n",
            "10/10 [==============================] - 0s 17ms/step - loss: 0.3118 - accuracy: 0.8884 - val_loss: 1.1352 - val_accuracy: 0.7066\n",
            "Epoch 252/300\n",
            "10/10 [==============================] - 0s 17ms/step - loss: 0.2760 - accuracy: 0.8964 - val_loss: 1.1065 - val_accuracy: 0.7161\n",
            "Epoch 253/300\n",
            "10/10 [==============================] - 0s 17ms/step - loss: 0.2925 - accuracy: 0.9051 - val_loss: 1.1776 - val_accuracy: 0.6909\n",
            "Epoch 254/300\n",
            "10/10 [==============================] - 0s 17ms/step - loss: 0.2912 - accuracy: 0.8972 - val_loss: 1.2046 - val_accuracy: 0.7035\n",
            "Epoch 255/300\n",
            "10/10 [==============================] - 0s 16ms/step - loss: 0.2751 - accuracy: 0.8979 - val_loss: 1.1330 - val_accuracy: 0.6940\n",
            "Epoch 256/300\n",
            "10/10 [==============================] - 0s 18ms/step - loss: 0.3087 - accuracy: 0.8940 - val_loss: 1.1566 - val_accuracy: 0.6751\n",
            "Epoch 257/300\n",
            "10/10 [==============================] - 0s 16ms/step - loss: 0.2882 - accuracy: 0.8948 - val_loss: 1.2509 - val_accuracy: 0.6940\n",
            "Epoch 258/300\n",
            "10/10 [==============================] - 0s 17ms/step - loss: 0.2827 - accuracy: 0.8940 - val_loss: 1.1683 - val_accuracy: 0.6972\n",
            "Epoch 259/300\n",
            "10/10 [==============================] - 0s 17ms/step - loss: 0.2642 - accuracy: 0.9051 - val_loss: 1.1975 - val_accuracy: 0.6845\n",
            "Epoch 260/300\n",
            "10/10 [==============================] - 0s 17ms/step - loss: 0.2988 - accuracy: 0.8869 - val_loss: 1.1910 - val_accuracy: 0.7098\n",
            "Epoch 261/300\n",
            "10/10 [==============================] - 0s 17ms/step - loss: 0.2871 - accuracy: 0.8972 - val_loss: 1.1118 - val_accuracy: 0.6940\n",
            "Epoch 262/300\n",
            "10/10 [==============================] - 0s 18ms/step - loss: 0.2887 - accuracy: 0.8964 - val_loss: 1.1107 - val_accuracy: 0.6909\n",
            "Epoch 263/300\n",
            "10/10 [==============================] - 0s 17ms/step - loss: 0.2686 - accuracy: 0.9051 - val_loss: 1.1069 - val_accuracy: 0.7035\n",
            "Epoch 264/300\n",
            "10/10 [==============================] - 0s 17ms/step - loss: 0.2689 - accuracy: 0.9074 - val_loss: 1.1581 - val_accuracy: 0.7003\n",
            "Epoch 265/300\n",
            "10/10 [==============================] - 0s 17ms/step - loss: 0.2949 - accuracy: 0.8979 - val_loss: 1.1585 - val_accuracy: 0.6877\n",
            "Epoch 266/300\n",
            "10/10 [==============================] - 0s 16ms/step - loss: 0.2918 - accuracy: 0.8892 - val_loss: 1.1288 - val_accuracy: 0.7161\n",
            "Epoch 267/300\n",
            "10/10 [==============================] - 0s 17ms/step - loss: 0.2842 - accuracy: 0.8987 - val_loss: 1.1414 - val_accuracy: 0.7066\n",
            "Epoch 268/300\n",
            "10/10 [==============================] - 0s 17ms/step - loss: 0.2852 - accuracy: 0.8916 - val_loss: 1.1365 - val_accuracy: 0.6940\n",
            "Epoch 269/300\n",
            "10/10 [==============================] - 0s 17ms/step - loss: 0.2826 - accuracy: 0.9027 - val_loss: 1.2058 - val_accuracy: 0.7066\n",
            "Epoch 270/300\n",
            "10/10 [==============================] - 0s 17ms/step - loss: 0.2521 - accuracy: 0.9256 - val_loss: 1.1749 - val_accuracy: 0.7319\n",
            "Epoch 271/300\n",
            "10/10 [==============================] - 0s 18ms/step - loss: 0.2549 - accuracy: 0.9098 - val_loss: 1.1408 - val_accuracy: 0.7161\n",
            "Epoch 272/300\n",
            "10/10 [==============================] - 0s 17ms/step - loss: 0.2699 - accuracy: 0.9011 - val_loss: 1.2263 - val_accuracy: 0.6909\n",
            "Epoch 273/300\n",
            "10/10 [==============================] - 0s 17ms/step - loss: 0.2662 - accuracy: 0.9090 - val_loss: 1.1239 - val_accuracy: 0.7161\n",
            "Epoch 274/300\n",
            "10/10 [==============================] - 0s 17ms/step - loss: 0.2612 - accuracy: 0.9090 - val_loss: 1.0988 - val_accuracy: 0.7098\n",
            "Epoch 275/300\n",
            "10/10 [==============================] - 0s 16ms/step - loss: 0.2856 - accuracy: 0.9003 - val_loss: 1.1707 - val_accuracy: 0.7035\n",
            "Epoch 276/300\n",
            "10/10 [==============================] - 0s 17ms/step - loss: 0.2659 - accuracy: 0.9003 - val_loss: 1.1799 - val_accuracy: 0.7192\n",
            "Epoch 277/300\n",
            "10/10 [==============================] - 0s 16ms/step - loss: 0.2847 - accuracy: 0.8932 - val_loss: 1.1774 - val_accuracy: 0.7098\n",
            "Epoch 278/300\n",
            "10/10 [==============================] - 0s 17ms/step - loss: 0.2690 - accuracy: 0.9169 - val_loss: 1.1708 - val_accuracy: 0.7003\n",
            "Epoch 279/300\n",
            "10/10 [==============================] - 0s 17ms/step - loss: 0.2454 - accuracy: 0.9153 - val_loss: 1.1690 - val_accuracy: 0.7035\n",
            "Epoch 280/300\n",
            "10/10 [==============================] - 0s 16ms/step - loss: 0.2327 - accuracy: 0.9201 - val_loss: 1.1633 - val_accuracy: 0.7035\n",
            "Epoch 281/300\n",
            "10/10 [==============================] - 0s 17ms/step - loss: 0.2396 - accuracy: 0.9169 - val_loss: 1.1801 - val_accuracy: 0.7129\n",
            "Epoch 282/300\n",
            "10/10 [==============================] - 0s 17ms/step - loss: 0.2472 - accuracy: 0.9201 - val_loss: 1.1790 - val_accuracy: 0.7161\n",
            "Epoch 283/300\n",
            "10/10 [==============================] - 0s 17ms/step - loss: 0.2683 - accuracy: 0.9011 - val_loss: 1.1514 - val_accuracy: 0.7066\n",
            "Epoch 284/300\n",
            "10/10 [==============================] - 0s 17ms/step - loss: 0.2545 - accuracy: 0.9019 - val_loss: 1.1759 - val_accuracy: 0.6909\n",
            "Epoch 285/300\n",
            "10/10 [==============================] - 0s 16ms/step - loss: 0.2446 - accuracy: 0.9114 - val_loss: 1.1798 - val_accuracy: 0.7098\n",
            "Epoch 286/300\n",
            "10/10 [==============================] - 0s 18ms/step - loss: 0.2321 - accuracy: 0.9193 - val_loss: 1.1585 - val_accuracy: 0.7066\n",
            "Epoch 287/300\n",
            "10/10 [==============================] - 0s 17ms/step - loss: 0.2358 - accuracy: 0.9169 - val_loss: 1.1507 - val_accuracy: 0.7066\n",
            "Epoch 288/300\n",
            "10/10 [==============================] - 0s 18ms/step - loss: 0.2400 - accuracy: 0.9122 - val_loss: 1.1968 - val_accuracy: 0.7098\n",
            "Epoch 289/300\n",
            "10/10 [==============================] - 0s 18ms/step - loss: 0.2257 - accuracy: 0.9241 - val_loss: 1.2262 - val_accuracy: 0.6877\n",
            "Epoch 290/300\n",
            "10/10 [==============================] - 0s 18ms/step - loss: 0.2192 - accuracy: 0.9193 - val_loss: 1.1619 - val_accuracy: 0.7161\n",
            "Epoch 291/300\n",
            "10/10 [==============================] - 0s 16ms/step - loss: 0.2722 - accuracy: 0.9066 - val_loss: 1.2000 - val_accuracy: 0.6940\n",
            "Epoch 292/300\n",
            "10/10 [==============================] - 0s 17ms/step - loss: 0.2386 - accuracy: 0.9209 - val_loss: 1.2407 - val_accuracy: 0.7003\n",
            "Epoch 293/300\n",
            "10/10 [==============================] - 0s 17ms/step - loss: 0.2403 - accuracy: 0.9106 - val_loss: 1.1999 - val_accuracy: 0.7098\n",
            "Epoch 294/300\n",
            "10/10 [==============================] - 0s 17ms/step - loss: 0.2444 - accuracy: 0.9130 - val_loss: 1.2312 - val_accuracy: 0.6972\n",
            "Epoch 295/300\n",
            "10/10 [==============================] - 0s 17ms/step - loss: 0.2310 - accuracy: 0.9161 - val_loss: 1.2208 - val_accuracy: 0.6877\n",
            "Epoch 296/300\n",
            "10/10 [==============================] - 0s 16ms/step - loss: 0.2350 - accuracy: 0.9082 - val_loss: 1.1694 - val_accuracy: 0.7035\n",
            "Epoch 297/300\n",
            "10/10 [==============================] - 0s 17ms/step - loss: 0.2386 - accuracy: 0.9193 - val_loss: 1.2182 - val_accuracy: 0.6972\n",
            "Epoch 298/300\n",
            "10/10 [==============================] - 0s 16ms/step - loss: 0.2289 - accuracy: 0.9185 - val_loss: 1.2449 - val_accuracy: 0.6940\n",
            "Epoch 299/300\n",
            "10/10 [==============================] - 0s 17ms/step - loss: 0.2060 - accuracy: 0.9280 - val_loss: 1.1787 - val_accuracy: 0.7161\n",
            "Epoch 300/300\n",
            "10/10 [==============================] - 0s 17ms/step - loss: 0.2354 - accuracy: 0.9082 - val_loss: 1.2435 - val_accuracy: 0.6909\n",
            "CPU times: user 39.8 s, sys: 9.81 s, total: 49.6 s\n",
            "Wall time: 54.7 s\n"
          ],
          "name": "stdout"
        }
      ]
    },
    {
      "cell_type": "code",
      "metadata": {
        "id": "aKiNOzcf5DaU",
        "outputId": "0ca57727-fd06-47bf-86dc-8496e5b8704e",
        "colab": {
          "base_uri": "https://localhost:8080/",
          "height": 828
        }
      },
      "source": [
        "# Loss Curves\n",
        "plt.figure(figsize=[14,10])\n",
        "plt.subplot(211)\n",
        "plt.plot(history.history['loss'],'r',linewidth=3.0)\n",
        "plt.plot(history.history['val_loss'],'b',linewidth=3.0)\n",
        "plt.legend(['Training loss', 'Validation Loss'],fontsize=18)\n",
        "plt.xlabel('Epochs ',fontsize=16)\n",
        "plt.ylabel('Loss',fontsize=16)\n",
        "plt.title('Loss Curves',fontsize=16)\n",
        " \n",
        "# Accuracy Curves\n",
        "plt.figure(figsize=[14,10])\n",
        "plt.subplot(212)\n",
        "plt.plot(history.history['acc'],'r',linewidth=3.0)\n",
        "plt.plot(history.history['val_acc'],'b',linewidth=3.0)\n",
        "plt.legend(['Training Accuracy', 'Validation Accuracy'],fontsize=18)\n",
        "plt.xlabel('Epochs ',fontsize=16)\n",
        "plt.ylabel('Accuracy',fontsize=16)\n",
        "plt.title('Accuracy Curves',fontsize=16)"
      ],
      "execution_count": 39,
      "outputs": [
        {
          "output_type": "error",
          "ename": "KeyError",
          "evalue": "ignored",
          "traceback": [
            "\u001b[0;31m---------------------------------------------------------------------------\u001b[0m",
            "\u001b[0;31mKeyError\u001b[0m                                  Traceback (most recent call last)",
            "\u001b[0;32m<ipython-input-39-c6a84f106b2a>\u001b[0m in \u001b[0;36m<module>\u001b[0;34m()\u001b[0m\n\u001b[1;32m     12\u001b[0m \u001b[0mplt\u001b[0m\u001b[0;34m.\u001b[0m\u001b[0mfigure\u001b[0m\u001b[0;34m(\u001b[0m\u001b[0mfigsize\u001b[0m\u001b[0;34m=\u001b[0m\u001b[0;34m[\u001b[0m\u001b[0;36m14\u001b[0m\u001b[0;34m,\u001b[0m\u001b[0;36m10\u001b[0m\u001b[0;34m]\u001b[0m\u001b[0;34m)\u001b[0m\u001b[0;34m\u001b[0m\u001b[0;34m\u001b[0m\u001b[0m\n\u001b[1;32m     13\u001b[0m \u001b[0mplt\u001b[0m\u001b[0;34m.\u001b[0m\u001b[0msubplot\u001b[0m\u001b[0;34m(\u001b[0m\u001b[0;36m212\u001b[0m\u001b[0;34m)\u001b[0m\u001b[0;34m\u001b[0m\u001b[0;34m\u001b[0m\u001b[0m\n\u001b[0;32m---> 14\u001b[0;31m \u001b[0mplt\u001b[0m\u001b[0;34m.\u001b[0m\u001b[0mplot\u001b[0m\u001b[0;34m(\u001b[0m\u001b[0mhistory\u001b[0m\u001b[0;34m.\u001b[0m\u001b[0mhistory\u001b[0m\u001b[0;34m[\u001b[0m\u001b[0;34m'acc'\u001b[0m\u001b[0;34m]\u001b[0m\u001b[0;34m,\u001b[0m\u001b[0;34m'r'\u001b[0m\u001b[0;34m,\u001b[0m\u001b[0mlinewidth\u001b[0m\u001b[0;34m=\u001b[0m\u001b[0;36m3.0\u001b[0m\u001b[0;34m)\u001b[0m\u001b[0;34m\u001b[0m\u001b[0;34m\u001b[0m\u001b[0m\n\u001b[0m\u001b[1;32m     15\u001b[0m \u001b[0mplt\u001b[0m\u001b[0;34m.\u001b[0m\u001b[0mplot\u001b[0m\u001b[0;34m(\u001b[0m\u001b[0mhistory\u001b[0m\u001b[0;34m.\u001b[0m\u001b[0mhistory\u001b[0m\u001b[0;34m[\u001b[0m\u001b[0;34m'val_acc'\u001b[0m\u001b[0;34m]\u001b[0m\u001b[0;34m,\u001b[0m\u001b[0;34m'b'\u001b[0m\u001b[0;34m,\u001b[0m\u001b[0mlinewidth\u001b[0m\u001b[0;34m=\u001b[0m\u001b[0;36m3.0\u001b[0m\u001b[0;34m)\u001b[0m\u001b[0;34m\u001b[0m\u001b[0;34m\u001b[0m\u001b[0m\n\u001b[1;32m     16\u001b[0m \u001b[0mplt\u001b[0m\u001b[0;34m.\u001b[0m\u001b[0mlegend\u001b[0m\u001b[0;34m(\u001b[0m\u001b[0;34m[\u001b[0m\u001b[0;34m'Training Accuracy'\u001b[0m\u001b[0;34m,\u001b[0m \u001b[0;34m'Validation Accuracy'\u001b[0m\u001b[0;34m]\u001b[0m\u001b[0;34m,\u001b[0m\u001b[0mfontsize\u001b[0m\u001b[0;34m=\u001b[0m\u001b[0;36m18\u001b[0m\u001b[0;34m)\u001b[0m\u001b[0;34m\u001b[0m\u001b[0;34m\u001b[0m\u001b[0m\n",
            "\u001b[0;31mKeyError\u001b[0m: 'acc'"
          ]
        },
        {
          "output_type": "display_data",
          "data": {
            "image/png": "[encoded data removed]",
            "text/plain": [
              "<Figure size 1008x720 with 1 Axes>"
            ]
          },
          "metadata": {
            "tags": [],
            "needs_background": "light"
          }
        },
        {
          "output_type": "display_data",
          "data": {
            "image/png": "[encoded data removed]",
            "text/plain": [
              "<Figure size 1008x720 with 1 Axes>"
            ]
          },
          "metadata": {
            "tags": [],
            "needs_background": "light"
          }
        }
      ]
    },
    {
      "cell_type": "code",
      "metadata": {
        "id": "49f3LOOc5ESG",
        "outputId": "3ab59bb7-65a3-4995-dcb4-fe74bd40099e",
        "colab": {
          "base_uri": "https://localhost:8080/"
        }
      },
      "source": [
        "  # Save model and weights\n",
        "model_name = \"birds_classify_v2.h5\"\n",
        "model.save(model_name)\n",
        "print('Saved trained model at %s ' % model_name)"
      ],
      "execution_count": 40,
      "outputs": [
        {
          "output_type": "stream",
          "text": [
            "Saved trained model at birds_classify_v2.h5 \n"
          ],
          "name": "stdout"
        }
      ]
    },
    {
      "cell_type": "code",
      "metadata": {
        "id": "7fFP95nE5EDd",
        "outputId": "48c816ea-987e-4928-9c73-b8871650f86b",
        "colab": {
          "base_uri": "https://localhost:8080/"
        }
      },
      "source": [
        "# Evaluate the model\n",
        "scores = model.evaluate(x_test, y_test, verbose=1)\n",
        "print('Test loss:', scores[0])\n",
        "print('Test accuracy:', scores[1])"
      ],
      "execution_count": 41,
      "outputs": [
        {
          "output_type": "stream",
          "text": [
            "10/10 [==============================] - 0s 8ms/step - loss: 1.2435 - accuracy: 0.6909\n",
            "Test loss: 1.2435075044631958\n",
            "Test accuracy: 0.6908517479896545\n"
          ],
          "name": "stdout"
        }
      ]
    },
    {
      "cell_type": "code",
      "metadata": {
        "id": "M0fMc4Sk5DXc",
        "outputId": "b2b9c9f8-4b4a-4d01-983b-5861d819a248",
        "colab": {
          "base_uri": "https://localhost:8080/"
        }
      },
      "source": [
        "# classification report\n",
        "predictions = model.predict(x_test, verbose=1)"
      ],
      "execution_count": 42,
      "outputs": [
        {
          "output_type": "stream",
          "text": [
            "10/10 [==============================] - 0s 2ms/step\n"
          ],
          "name": "stdout"
        }
      ]
    },
    {
      "cell_type": "code",
      "metadata": {
        "id": "FPn1ehz2CJjm"
      },
      "source": [
        "y_true, y_pred = [],[]\n",
        "classes = encoder.classes_\n",
        "for idx, prediction in enumerate(predictions): \n",
        "    y_true.append(classes[np.argmax(y_test[idx])])\n",
        "    y_pred.append(classes[np.argmax(prediction)])"
      ],
      "execution_count": 43,
      "outputs": []
    },
    {
      "cell_type": "code",
      "metadata": {
        "id": "5UDEzlc9DePo",
        "outputId": "d355f79e-1feb-4092-b4ae-b6e0d88c1218",
        "colab": {
          "base_uri": "https://localhost:8080/"
        }
      },
      "source": [
        "print(classification_report(y_pred, y_true))"
      ],
      "execution_count": 44,
      "outputs": [
        {
          "output_type": "stream",
          "text": [
            "                     precision    recall  f1-score   support\n",
            "\n",
            "       AmericanCrow       0.77      0.83      0.80        52\n",
            "            BlueJay       0.84      0.78      0.81        68\n",
            "   EasternWoodPewee       0.68      0.64      0.66        50\n",
            "NorthernWaterthrush       0.42      0.66      0.51        38\n",
            "           Ovenbird       0.68      0.57      0.62        63\n",
            "              Veery       0.79      0.65      0.71        46\n",
            "\n",
            "           accuracy                           0.69       317\n",
            "          macro avg       0.70      0.69      0.69       317\n",
            "       weighted avg       0.71      0.69      0.70       317\n",
            "\n"
          ],
          "name": "stdout"
        }
      ]
    },
    {
      "cell_type": "code",
      "metadata": {
        "id": "3N_z4FZ6DefG"
      },
      "source": [
        "# confusion matrix\n",
        "def plot_confusion_matrix(cm, classes,\n",
        "                          title='Confusion matrix',\n",
        "                          cmap=plt.cm.Blues):\n",
        "    \"\"\"\n",
        "    This function prints and plots the confusion matrix.\n",
        "    Normalization can be applied by setting `normalize=True`.\n",
        "    \"\"\"\n",
        "    plt.figure(figsize=(11, 11))\n",
        "    plt.imshow(cm, interpolation='nearest', cmap=cmap)\n",
        "    plt.title(title, fontsize=30)\n",
        "    tick_marks = np.arange(len(classes))\n",
        "    plt.xticks(tick_marks, classes, rotation=90, fontsize=15)\n",
        "    plt.yticks(tick_marks, classes, fontsize=15)\n",
        "\n",
        "    fmt = '.2f'\n",
        "    thresh = cm.max() / 2.\n",
        "    for i, j in itertools.product(range(cm.shape[0]), range(cm.shape[1])):\n",
        "        plt.text(j, i, format(cm[i, j], fmt),\n",
        "                 horizontalalignment=\"center\",\n",
        "                 color=\"white\" if cm[i, j] > thresh else \"black\")\n",
        "\n",
        "    plt.ylabel('True label', fontsize=25)\n",
        "    plt.xlabel('Predicted label', fontsize=25)\n",
        "    plt.tight_layout()\n",
        "\n",
        "    plt.show()"
      ],
      "execution_count": 45,
      "outputs": []
    },
    {
      "cell_type": "code",
      "metadata": {
        "id": "wOXtGvCfDerZ",
        "outputId": "7fe92d05-12cf-4b24-83af-8c9cea7b5a2d",
        "colab": {
          "base_uri": "https://localhost:8080/",
          "height": 801
        }
      },
      "source": [
        "cnf_matrix = confusion_matrix(y_pred, y_true)\n",
        "cnf_matrix = cnf_matrix.astype(float) / cnf_matrix.sum(axis=1)[:, np.newaxis]\n",
        "plot_confusion_matrix(cnf_matrix, classes)"
      ],
      "execution_count": 46,
      "outputs": [
        {
          "output_type": "display_data",
          "data": {
            "image/png": "[encoded data removed]",
            "text/plain": [
              "<Figure size 792x792 with 1 Axes>"
            ]
          },
          "metadata": {
            "tags": [],
            "needs_background": "light"
          }
        }
      ]
    },
    {
      "cell_type": "code",
      "metadata": {
        "id": "FvGMUK71DekC"
      },
      "source": [
        ""
      ],
      "execution_count": null,
      "outputs": []
    },
    {
      "cell_type": "code",
      "metadata": {
        "id": "G89yONe_DeV2"
      },
      "source": [
        ""
      ],
      "execution_count": null,
      "outputs": []
    },
    {
      "cell_type": "code",
      "metadata": {
        "id": "u4PXm4heDeKC"
      },
      "source": [
        ""
      ],
      "execution_count": null,
      "outputs": []
    }
  ]
}